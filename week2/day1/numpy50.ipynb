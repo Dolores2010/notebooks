{
 "cells": [
  {
   "cell_type": "code",
   "execution_count": 2,
   "id": "4e872a56",
   "metadata": {},
   "outputs": [],
   "source": [
    "import numpy as np"
   ]
  },
  {
   "cell_type": "markdown",
   "id": "253e005d",
   "metadata": {},
   "source": [
    "1. 创建 1×5 全 0 浮点向量"
   ]
  },
  {
   "cell_type": "code",
   "execution_count": 7,
   "id": "87621d14",
   "metadata": {},
   "outputs": [
    {
     "data": {
      "text/plain": [
       "array([0., 0., 0., 0., 0.])"
      ]
     },
     "execution_count": 7,
     "metadata": {},
     "output_type": "execute_result"
    }
   ],
   "source": [
    "a = np.zeros(5, dtype=float)\n",
    "a"
   ]
  },
  {
   "cell_type": "markdown",
   "id": "ae136446",
   "metadata": {},
   "source": [
    "2. 创建 3×3 单位阵(对角线为1)"
   ]
  },
  {
   "cell_type": "code",
   "execution_count": 8,
   "id": "ae212ff1",
   "metadata": {},
   "outputs": [
    {
     "data": {
      "text/plain": [
       "array([[1., 0., 0.],\n",
       "       [0., 1., 0.],\n",
       "       [0., 0., 1.]])"
      ]
     },
     "execution_count": 8,
     "metadata": {},
     "output_type": "execute_result"
    }
   ],
   "source": [
    "a = np.eye(3)\n",
    "a"
   ]
  },
  {
   "cell_type": "markdown",
   "id": "af0b0ad3",
   "metadata": {},
   "source": [
    "3. 生成 0–9 的数组  "
   ]
  },
  {
   "cell_type": "code",
   "execution_count": 10,
   "id": "02c3ab7a",
   "metadata": {},
   "outputs": [
    {
     "data": {
      "text/plain": [
       "range(0, 10)"
      ]
     },
     "execution_count": 10,
     "metadata": {},
     "output_type": "execute_result"
    }
   ],
   "source": [
    "my_list = range(0, 10)\n",
    "my_list"
   ]
  },
  {
   "cell_type": "markdown",
   "id": "2800cb66",
   "metadata": {},
   "source": [
    "4. 从 0 到 1 等间隔 5 个数  "
   ]
  },
  {
   "cell_type": "code",
   "execution_count": 12,
   "id": "294cc12f",
   "metadata": {},
   "outputs": [
    {
     "data": {
      "text/plain": [
       "array([0.  , 0.25, 0.5 , 0.75, 1.  ])"
      ]
     },
     "execution_count": 12,
     "metadata": {},
     "output_type": "execute_result"
    }
   ],
   "source": [
    "my_list = np.linspace(0,1,5)\n",
    "my_list"
   ]
  },
  {
   "cell_type": "markdown",
   "id": "1ba924aa",
   "metadata": {},
   "source": [
    "5. 随机 2×3 正态分布  "
   ]
  },
  {
   "cell_type": "code",
   "execution_count": 14,
   "id": "6eb7b152",
   "metadata": {},
   "outputs": [
    {
     "data": {
      "text/plain": [
       "array([[-0.62122007,  0.5105913 , -0.1832004 ],\n",
       "       [-0.38875061, -0.86727411, -1.1598184 ]])"
      ]
     },
     "execution_count": 14,
     "metadata": {},
     "output_type": "execute_result"
    }
   ],
   "source": [
    "a = np.random.randn(2, 3)\n",
    "a"
   ]
  },
  {
   "cell_type": "markdown",
   "id": "a4cc94e2",
   "metadata": {},
   "source": [
    "6. 将 1~6 变成 2×3 数组  "
   ]
  },
  {
   "cell_type": "code",
   "execution_count": 15,
   "id": "4e5559ab",
   "metadata": {},
   "outputs": [
    {
     "data": {
      "text/plain": [
       "array([[1, 2, 3],\n",
       "       [4, 5, 6]])"
      ]
     },
     "execution_count": 15,
     "metadata": {},
     "output_type": "execute_result"
    }
   ],
   "source": [
    "a = np.arange(1, 7).reshape(2, 3)\n",
    "a"
   ]
  },
  {
   "cell_type": "markdown",
   "id": "38f432ec",
   "metadata": {},
   "source": [
    "7. 获取第 2 行整行  "
   ]
  },
  {
   "cell_type": "code",
   "execution_count": 19,
   "id": "3427ea48",
   "metadata": {},
   "outputs": [
    {
     "data": {
      "text/plain": [
       "array([4, 5, 6])"
      ]
     },
     "execution_count": 19,
     "metadata": {},
     "output_type": "execute_result"
    }
   ],
   "source": [
    "a = np.array([[1, 2, 3], [4, 5, 6]])\n",
    "a = a[1, :]\n",
    "a"
   ]
  },
  {
   "cell_type": "markdown",
   "id": "f2b82b8c",
   "metadata": {},
   "source": [
    "8. 获取第 1 列整列  "
   ]
  },
  {
   "cell_type": "code",
   "execution_count": 20,
   "id": "da077aaa",
   "metadata": {},
   "outputs": [
    {
     "data": {
      "text/plain": [
       "array([1, 4])"
      ]
     },
     "execution_count": 20,
     "metadata": {},
     "output_type": "execute_result"
    }
   ],
   "source": [
    "a = np.array([[1, 2, 3], [4, 5, 6]])\n",
    "a = a[:, 0]\n",
    "a"
   ]
  },
  {
   "cell_type": "markdown",
   "id": "96e0aa1f",
   "metadata": {},
   "source": [
    "9. 取前两行、后两列  "
   ]
  },
  {
   "cell_type": "code",
   "execution_count": 21,
   "id": "5e2bb058",
   "metadata": {},
   "outputs": [
    {
     "data": {
      "text/plain": [
       "array([[2, 3],\n",
       "       [5, 6]])"
      ]
     },
     "execution_count": 21,
     "metadata": {},
     "output_type": "execute_result"
    }
   ],
   "source": [
    "a = np.array([[1, 2, 3], [4, 5, 6], [7, 8, 9]])\n",
    "a = a[:2, -2:]\n",
    "a"
   ]
  },
  {
   "cell_type": "markdown",
   "id": "456ddeda",
   "metadata": {},
   "source": [
    "10. 倒序整个数组"
   ]
  },
  {
   "cell_type": "code",
   "execution_count": 3,
   "id": "34eb9d04",
   "metadata": {},
   "outputs": [
    {
     "data": {
      "text/plain": [
       "array([[9, 8, 7],\n",
       "       [6, 5, 4],\n",
       "       [3, 2, 1]])"
      ]
     },
     "execution_count": 3,
     "metadata": {},
     "output_type": "execute_result"
    }
   ],
   "source": [
    "a = np.array([[1, 2, 3], [4, 5, 6], [7, 8, 9]])\n",
    "a = a[::-1, ::-1]\n",
    "a"
   ]
  },
  {
   "cell_type": "markdown",
   "id": "4859170a",
   "metadata": {},
   "source": [
    "11. 行倒序，列不变"
   ]
  },
  {
   "cell_type": "code",
   "execution_count": 4,
   "id": "978a7530",
   "metadata": {},
   "outputs": [
    {
     "data": {
      "text/plain": [
       "array([[7, 8, 9],\n",
       "       [4, 5, 6],\n",
       "       [1, 2, 3]])"
      ]
     },
     "execution_count": 4,
     "metadata": {},
     "output_type": "execute_result"
    }
   ],
   "source": [
    "a = np.array([[1, 2, 3], [4, 5, 6], [7, 8, 9]])\n",
    "a = a[::-1, :]\n",
    "a"
   ]
  },
  {
   "cell_type": "markdown",
   "id": "55483f20",
   "metadata": {},
   "source": [
    "12. 把 3×4 数组展平成一维"
   ]
  },
  {
   "cell_type": "code",
   "execution_count": null,
   "id": "6171f42a",
   "metadata": {},
   "outputs": [
    {
     "data": {
      "text/plain": [
       "array([[ 1,  2,  3,  4,  5,  6,  7,  8,  9, 17, 18, 19]])"
      ]
     },
     "execution_count": 8,
     "metadata": {},
     "output_type": "execute_result"
    }
   ],
   "source": [
    "a = np.array([[1, 2, 3], [4, 5, 6], [7, 8, 9], [17, 18, 19]])\n",
    "a = a.reshape(1,12)\n",
    "a\n",
    "\n",
    "# 此时a变成了只有一行数据的二维向量，不满足题意"
   ]
  },
  {
   "cell_type": "code",
   "execution_count": null,
   "id": "c480d925",
   "metadata": {},
   "outputs": [],
   "source": [
    "#可以做如下修改\n",
    "b = np.array([[1, 2, 3], [4, 5, 6], [7, 8, 9], [17, 18, 19]])\n",
    "x = b.ravel()      # 推荐，返回视图\n",
    "y = b.flatten()    # 返回拷贝\n",
    "z = b.reshape(-1)  # 显式变成一维"
   ]
  },
  {
   "cell_type": "markdown",
   "id": "57355466",
   "metadata": {},
   "source": [
    "14. 计算 a 的转置"
   ]
  },
  {
   "cell_type": "code",
   "execution_count": 4,
   "id": "8c3aef65",
   "metadata": {},
   "outputs": [
    {
     "data": {
      "text/plain": [
       "array([[ 1,  4,  7, 17],\n",
       "       [ 2,  5,  8, 18],\n",
       "       [ 3,  6,  9, 19]])"
      ]
     },
     "execution_count": 4,
     "metadata": {},
     "output_type": "execute_result"
    }
   ],
   "source": [
    "b = np.array([[1, 2, 3], [4, 5, 6], [7, 8, 9], [17, 18, 19]])\n",
    "a = b.T\n",
    "a"
   ]
  },
  {
   "cell_type": "markdown",
   "id": "d6af5594",
   "metadata": {},
   "source": [
    "15. 将 a 与 a.T 做矩阵乘"
   ]
  },
  {
   "cell_type": "code",
   "execution_count": 5,
   "id": "94ae09c4",
   "metadata": {},
   "outputs": [
    {
     "data": {
      "text/plain": [
       "array([[ 14,  32,  50, 110],\n",
       "       [ 32,  77, 122, 272],\n",
       "       [ 50, 122, 194, 434],\n",
       "       [110, 272, 434, 974]])"
      ]
     },
     "execution_count": 5,
     "metadata": {},
     "output_type": "execute_result"
    }
   ],
   "source": [
    "b = np.array([[1, 2, 3], [4, 5, 6], [7, 8, 9], [17, 18, 19]])\n",
    "a = b @ b.T\n",
    "a"
   ]
  },
  {
   "cell_type": "markdown",
   "id": "7cdb5144",
   "metadata": {},
   "source": [
    "16. 逐元素平方"
   ]
  },
  {
   "cell_type": "code",
   "execution_count": 6,
   "id": "d037d34b",
   "metadata": {},
   "outputs": [
    {
     "data": {
      "text/plain": [
       "array([[  1,   4,   9],\n",
       "       [ 16,  25,  36],\n",
       "       [ 49,  64,  81],\n",
       "       [289, 324, 361]])"
      ]
     },
     "execution_count": 6,
     "metadata": {},
     "output_type": "execute_result"
    }
   ],
   "source": [
    "b = np.array([[1, 2, 3], [4, 5, 6], [7, 8, 9], [17, 18, 19]])\n",
    "a = b ** 2\n",
    "a"
   ]
  },
  {
   "cell_type": "markdown",
   "id": "3e886383",
   "metadata": {},
   "source": [
    "17. 所有元素加 1"
   ]
  },
  {
   "cell_type": "code",
   "execution_count": 7,
   "id": "f0988eb6",
   "metadata": {},
   "outputs": [
    {
     "data": {
      "text/plain": [
       "array([[ 3,  4,  5],\n",
       "       [ 6,  7,  8],\n",
       "       [ 9, 10, 11],\n",
       "       [19, 20, 21]])"
      ]
     },
     "execution_count": 7,
     "metadata": {},
     "output_type": "execute_result"
    }
   ],
   "source": [
    "b = np.array([[1, 2, 3], [4, 5, 6], [7, 8, 9], [17, 18, 19]])\n",
    "a = b + 2\n",
    "a"
   ]
  },
  {
   "cell_type": "markdown",
   "id": "a445a332",
   "metadata": {},
   "source": [
    "18. 求每行最大值"
   ]
  },
  {
   "cell_type": "code",
   "execution_count": 8,
   "id": "abbd91cc",
   "metadata": {},
   "outputs": [
    {
     "data": {
      "text/plain": [
       "array([ 3,  6,  9, 19])"
      ]
     },
     "execution_count": 8,
     "metadata": {},
     "output_type": "execute_result"
    }
   ],
   "source": [
    "b = np.array([[1, 2, 3], [4, 5, 6], [7, 8, 9], [17, 18, 19]])\n",
    "a = b.max(axis=1)\n",
    "a"
   ]
  },
  {
   "cell_type": "markdown",
   "id": "f1ef3051",
   "metadata": {},
   "source": [
    "19. 求每列平均值"
   ]
  },
  {
   "cell_type": "code",
   "execution_count": 11,
   "id": "02262ed3",
   "metadata": {},
   "outputs": [
    {
     "data": {
      "text/plain": [
       "array([7.25, 8.25, 9.25])"
      ]
     },
     "execution_count": 11,
     "metadata": {},
     "output_type": "execute_result"
    }
   ],
   "source": [
    "b = np.array([[1, 2, 3], [4, 5, 6], [7, 8, 9], [17, 18, 19]])\n",
    "a = b.mean(axis=0)\n",
    "a"
   ]
  },
  {
   "cell_type": "markdown",
   "id": "a1eb7c8a",
   "metadata": {},
   "source": [
    "20. 计算总和"
   ]
  },
  {
   "cell_type": "code",
   "execution_count": 13,
   "id": "0235c9f7",
   "metadata": {},
   "outputs": [
    {
     "data": {
      "text/plain": [
       "np.int64(99)"
      ]
     },
     "execution_count": 13,
     "metadata": {},
     "output_type": "execute_result"
    }
   ],
   "source": [
    "b = np.array([[1, 2, 3], [4, 5, 6], [7, 8, 9], [17, 18, 19]])\n",
    "a = b.sum()\n",
    "a"
   ]
  },
  {
   "cell_type": "markdown",
   "id": "4c846801",
   "metadata": {},
   "source": [
    "21. 计算累积和（flatten 后）"
   ]
  },
  {
   "cell_type": "code",
   "execution_count": 19,
   "id": "dc464f5a",
   "metadata": {},
   "outputs": [
    {
     "data": {
      "text/plain": [
       "array([ 1,  3,  6, 10, 15, 21, 28, 36, 45, 62, 80, 99])"
      ]
     },
     "execution_count": 19,
     "metadata": {},
     "output_type": "execute_result"
    }
   ],
   "source": [
    "b = np.array([[1, 2, 3], [4, 5, 6], [7, 8, 9], [17, 18, 19]])\n",
    "c = b.flatten()\n",
    "c\n",
    "a = c.cumsum()\n",
    "a"
   ]
  },
  {
   "cell_type": "markdown",
   "id": "0b4e2d65",
   "metadata": {},
   "source": [
    "22. 找到大于 3 的索引"
   ]
  },
  {
   "cell_type": "code",
   "execution_count": 21,
   "id": "6fd94821",
   "metadata": {},
   "outputs": [
    {
     "data": {
      "text/plain": [
       "(array([1, 1, 1, 2, 2, 2, 3, 3, 3]), array([0, 1, 2, 0, 1, 2, 0, 1, 2]))"
      ]
     },
     "execution_count": 21,
     "metadata": {},
     "output_type": "execute_result"
    }
   ],
   "source": [
    "b = np.array([[1, 2, 3], [4, 5, 6], [7, 8, 9], [17, 18, 19]])\n",
    "a = np.where(b > 3)\n",
    "a"
   ]
  },
  {
   "cell_type": "markdown",
   "id": "092e9355",
   "metadata": {},
   "source": [
    "23. 布尔掩码过滤"
   ]
  },
  {
   "cell_type": "code",
   "execution_count": 25,
   "id": "045dc0c8",
   "metadata": {},
   "outputs": [
    {
     "data": {
      "text/plain": [
       "array([ 4,  5,  6,  7,  8,  9, 17, 18, 19])"
      ]
     },
     "execution_count": 25,
     "metadata": {},
     "output_type": "execute_result"
    }
   ],
   "source": [
    "b = np.array([[1, 2, 3], [4, 5, 6], [7, 8, 9], [17, 18, 19]])\n",
    "a = b[b > 3]\n",
    "a"
   ]
  },
  {
   "cell_type": "markdown",
   "id": "67dd1067",
   "metadata": {},
   "source": [
    "24. 排序每行"
   ]
  },
  {
   "cell_type": "code",
   "execution_count": 26,
   "id": "740e949c",
   "metadata": {},
   "outputs": [
    {
     "data": {
      "text/plain": [
       "array([[  1,   3,   5],\n",
       "       [  5,   6,   8],\n",
       "       [  5,   9,  10],\n",
       "       [ 18,  19, 100]])"
      ]
     },
     "execution_count": 26,
     "metadata": {},
     "output_type": "execute_result"
    }
   ],
   "source": [
    "b = np.array([[1, 5, 3], [8, 5, 6], [5, 10, 9], [100, 18, 19]])\n",
    "np.sort(b, axis=1)"
   ]
  },
  {
   "cell_type": "markdown",
   "id": "1d3ebc98",
   "metadata": {},
   "source": [
    "25. 去重 1-D 数组"
   ]
  },
  {
   "cell_type": "code",
   "execution_count": 30,
   "id": "876faf1d",
   "metadata": {},
   "outputs": [
    {
     "data": {
      "text/plain": [
       "array([1, 2, 3, 4])"
      ]
     },
     "execution_count": 30,
     "metadata": {},
     "output_type": "execute_result"
    }
   ],
   "source": [
    "b = np.array([1, 2, 3, 4, 3])\n",
    "c = np.unique_values(b)\n",
    "c"
   ]
  },
  {
   "cell_type": "markdown",
   "id": "916217e7",
   "metadata": {},
   "source": [
    "26. 交换第 1、2 行"
   ]
  },
  {
   "cell_type": "code",
   "execution_count": 31,
   "id": "dde4fc51",
   "metadata": {},
   "outputs": [
    {
     "data": {
      "text/plain": [
       "array([[  8,   5,   6],\n",
       "       [  1,   5,   3],\n",
       "       [  5,  10,   9],\n",
       "       [100,  18,  19]])"
      ]
     },
     "execution_count": 31,
     "metadata": {},
     "output_type": "execute_result"
    }
   ],
   "source": [
    "b = np.array([[1, 5, 3], [8, 5, 6], [5, 10, 9], [100, 18, 19]])\n",
    "b[[0, 1]] = b[[1, 0]]\n",
    "b"
   ]
  },
  {
   "cell_type": "markdown",
   "id": "7be342e5",
   "metadata": {},
   "source": [
    "27. 交换第 0、2 列"
   ]
  },
  {
   "cell_type": "code",
   "execution_count": 34,
   "id": "3be7fa74",
   "metadata": {},
   "outputs": [
    {
     "data": {
      "text/plain": [
       "array([[  3,   5,   1],\n",
       "       [  6,   5,   8],\n",
       "       [  9,  10,   5],\n",
       "       [ 19,  18, 100]])"
      ]
     },
     "execution_count": 34,
     "metadata": {},
     "output_type": "execute_result"
    }
   ],
   "source": [
    "b = np.array([[1, 5, 3], [8, 5, 6], [5, 10, 9], [100, 18, 19]])\n",
    "b[:, [0, 2]] = b[:, [2, 0]]\n",
    "b"
   ]
  },
  {
   "cell_type": "markdown",
   "id": "8452828c",
   "metadata": {},
   "source": [
    "28. 在第 1 行位置插入一行 0"
   ]
  },
  {
   "cell_type": "code",
   "execution_count": 35,
   "id": "6d958188",
   "metadata": {},
   "outputs": [
    {
     "data": {
      "text/plain": [
       "array([[  1,   5,   3],\n",
       "       [  0,   0,   0],\n",
       "       [  8,   5,   6],\n",
       "       [  5,  10,   9],\n",
       "       [100,  18,  19]])"
      ]
     },
     "execution_count": 35,
     "metadata": {},
     "output_type": "execute_result"
    }
   ],
   "source": [
    "b = np.array([[1, 5, 3], [8, 5, 6], [5, 10, 9], [100, 18, 19]])\n",
    "np.insert(b, 1, 0, axis=0)"
   ]
  },
  {
   "cell_type": "markdown",
   "id": "6753962b",
   "metadata": {},
   "source": [
    "29. 删除第 2 列"
   ]
  },
  {
   "cell_type": "code",
   "execution_count": null,
   "id": "24cf06ae",
   "metadata": {},
   "outputs": [
    {
     "data": {
      "text/plain": [
       "array([[  1,   5],\n",
       "       [  8,   5],\n",
       "       [  5,  10],\n",
       "       [100,  18]])"
      ]
     },
     "execution_count": 37,
     "metadata": {},
     "output_type": "execute_result"
    }
   ],
   "source": [
    "b = np.array([[1, 5, 3], [8, 5, 6], [5, 10, 9], [100, 18, 19]])\n",
    "np.delete(b, 1, axis=1)"
   ]
  },
  {
   "cell_type": "markdown",
   "id": "99f4547a",
   "metadata": {},
   "source": [
    "30. 沿行拼接两个 2×3 数组"
   ]
  },
  {
   "cell_type": "code",
   "execution_count": 3,
   "id": "1b282989",
   "metadata": {},
   "outputs": [
    {
     "data": {
      "text/plain": [
       "array([[  1,   5,   3],\n",
       "       [  8,   5,   6],\n",
       "       [  5,  10,   9],\n",
       "       [100,  18,  19]])"
      ]
     },
     "execution_count": 3,
     "metadata": {},
     "output_type": "execute_result"
    }
   ],
   "source": [
    "a = np.array([[1, 5, 3], [8, 5, 6]])\n",
    "b = np.array([[5, 10, 9], [100, 18, 19]])\n",
    "\n",
    "c = np.vstack([a,b])\n",
    "c\n"
   ]
  },
  {
   "cell_type": "markdown",
   "id": "28927413",
   "metadata": {},
   "source": [
    "31. 沿列拼接"
   ]
  },
  {
   "cell_type": "code",
   "execution_count": 5,
   "id": "7b6e9c8d",
   "metadata": {},
   "outputs": [
    {
     "data": {
      "text/plain": [
       "array([[  1,   5,   3,   5,  10,   9],\n",
       "       [  8,   5,   6, 100,  18,  19]])"
      ]
     },
     "execution_count": 5,
     "metadata": {},
     "output_type": "execute_result"
    }
   ],
   "source": [
    "a = np.array([[1, 5, 3], [8, 5, 6]])\n",
    "b = np.array([[5, 10, 9], [100, 18, 19]])\n",
    "c = np.hstack([a, b])\n",
    "c"
   ]
  },
  {
   "cell_type": "markdown",
   "id": "dd0fe00d",
   "metadata": {},
   "source": [
    "32. 水平拆分成 3 份"
   ]
  },
  {
   "cell_type": "code",
   "execution_count": 6,
   "id": "e4f02948",
   "metadata": {},
   "outputs": [
    {
     "data": {
      "text/plain": [
       "[array([[  5],\n",
       "        [100]]),\n",
       " array([[10],\n",
       "        [18]]),\n",
       " array([[ 9],\n",
       "        [19]])]"
      ]
     },
     "execution_count": 6,
     "metadata": {},
     "output_type": "execute_result"
    }
   ],
   "source": [
    "b = np.array([[5, 10, 9], [100, 18, 19]])\n",
    "a = np.hsplit(b, 3)\n",
    "a"
   ]
  },
  {
   "cell_type": "markdown",
   "id": "bc098694",
   "metadata": {},
   "source": [
    "33. 垂直拆分成 2 份"
   ]
  },
  {
   "cell_type": "code",
   "execution_count": 7,
   "id": "55b0dc3e",
   "metadata": {},
   "outputs": [
    {
     "data": {
      "text/plain": [
       "[array([[ 5, 10,  9]]), array([[100,  18,  19]])]"
      ]
     },
     "execution_count": 7,
     "metadata": {},
     "output_type": "execute_result"
    }
   ],
   "source": [
    "b = np.array([[5, 10, 9], [100, 18, 19]])\n",
    "a = np.vsplit(b, 2)\n",
    "a"
   ]
  },
  {
   "cell_type": "markdown",
   "id": "a509cc74",
   "metadata": {},
   "source": [
    "34. 广播：3×1 + 1×3 → 3×3"
   ]
  },
  {
   "cell_type": "code",
   "execution_count": 9,
   "id": "d136ac08",
   "metadata": {},
   "outputs": [
    {
     "name": "stdout",
     "output_type": "stream",
     "text": [
      "[[0]\n",
      " [1]\n",
      " [2]]\n",
      "[[0 1 2]]\n"
     ]
    },
    {
     "data": {
      "text/plain": [
       "array([[0, 1, 2],\n",
       "       [1, 2, 3],\n",
       "       [2, 3, 4]])"
      ]
     },
     "execution_count": 9,
     "metadata": {},
     "output_type": "execute_result"
    }
   ],
   "source": [
    "c = np.arange(3).reshape(3, 1)\n",
    "d = np.arange(3).reshape(1, 3)\n",
    "print(c)\n",
    "print(d)\n",
    "c + d"
   ]
  },
  {
   "cell_type": "markdown",
   "id": "506db915",
   "metadata": {},
   "source": [
    "35. 广播：5×1×4 + 3×4 → 5×3×4"
   ]
  },
  {
   "cell_type": "code",
   "execution_count": 15,
   "id": "3981bb95",
   "metadata": {},
   "outputs": [
    {
     "name": "stdout",
     "output_type": "stream",
     "text": [
      "[[[ 0  1  2  3]]\n",
      "\n",
      " [[ 4  5  6  7]]\n",
      "\n",
      " [[ 8  9 10 11]]\n",
      "\n",
      " [[12 13 14 15]]\n",
      "\n",
      " [[16 17 18 19]]]\n",
      "[[ 0  1  2  3]\n",
      " [ 4  5  6  7]\n",
      " [ 8  9 10 11]]\n",
      "==========\n",
      "[[[ 0  2  4  6]\n",
      "  [ 4  6  8 10]\n",
      "  [ 8 10 12 14]]\n",
      "\n",
      " [[ 4  6  8 10]\n",
      "  [ 8 10 12 14]\n",
      "  [12 14 16 18]]\n",
      "\n",
      " [[ 8 10 12 14]\n",
      "  [12 14 16 18]\n",
      "  [16 18 20 22]]\n",
      "\n",
      " [[12 14 16 18]\n",
      "  [16 18 20 22]\n",
      "  [20 22 24 26]]\n",
      "\n",
      " [[16 18 20 22]\n",
      "  [20 22 24 26]\n",
      "  [24 26 28 30]]]\n",
      "(5, 3, 4)\n"
     ]
    }
   ],
   "source": [
    "c = np.arange(20).reshape(5, 1, 4)\n",
    "d = np.arange(12).reshape(3, 4)\n",
    "print(c)\n",
    "print(d)\n",
    "print(\"=\"*10)\n",
    "a  = c + d\n",
    "print(a)\n",
    "print(a.shape)"
   ]
  },
  {
   "cell_type": "markdown",
   "id": "08a524fb",
   "metadata": {},
   "source": [
    "36. 使用 einsum 计算矩阵乘法"
   ]
  },
  {
   "cell_type": "code",
   "execution_count": 16,
   "id": "96b1b0eb",
   "metadata": {},
   "outputs": [
    {
     "data": {
      "text/plain": [
       "array([[ 4,  5,  6,  7],\n",
       "       [12, 17, 22, 27],\n",
       "       [20, 29, 38, 47]])"
      ]
     },
     "execution_count": 16,
     "metadata": {},
     "output_type": "execute_result"
    }
   ],
   "source": [
    "c = np.arange(6).reshape(3, 2)\n",
    "d = np.arange(8).reshape(2, 4)\n",
    "\n",
    "a = np.einsum('ij,jk->ik', c, d)\n",
    "a"
   ]
  },
  {
   "cell_type": "markdown",
   "id": "98445273",
   "metadata": {},
   "source": [
    "37. 使用 einsum 求每行和"
   ]
  },
  {
   "cell_type": "code",
   "execution_count": 18,
   "id": "45e7ac11",
   "metadata": {},
   "outputs": [
    {
     "data": {
      "text/plain": [
       "array([1, 5, 9])"
      ]
     },
     "execution_count": 18,
     "metadata": {},
     "output_type": "execute_result"
    }
   ],
   "source": [
    "c = np.arange(6).reshape(3, 2)\n",
    "a = np.einsum('ij->i', c)\n",
    "a"
   ]
  },
  {
   "cell_type": "markdown",
   "id": "55063a2d",
   "metadata": {},
   "source": [
    "38. 使用 einsum 求每列和"
   ]
  },
  {
   "cell_type": "code",
   "execution_count": 19,
   "id": "070ecf3a",
   "metadata": {},
   "outputs": [
    {
     "data": {
      "text/plain": [
       "array([6, 9])"
      ]
     },
     "execution_count": 19,
     "metadata": {},
     "output_type": "execute_result"
    }
   ],
   "source": [
    "c = np.arange(6).reshape(3, 2)\n",
    "a = np.einsum('ij->j', c)\n",
    "a"
   ]
  },
  {
   "cell_type": "markdown",
   "id": "55b8938b",
   "metadata": {},
   "source": [
    "39. 使用 einsum 求迹（对角线之和）"
   ]
  },
  {
   "cell_type": "code",
   "execution_count": 22,
   "id": "1e2e4d4a",
   "metadata": {},
   "outputs": [
    {
     "data": {
      "text/plain": [
       "np.int64(30)"
      ]
     },
     "execution_count": 22,
     "metadata": {},
     "output_type": "execute_result"
    }
   ],
   "source": [
    "c = np.arange(16).reshape(4, 4)\n",
    "a = np.einsum('ii->', c)\n",
    "a"
   ]
  },
  {
   "cell_type": "markdown",
   "id": "b1bc406d",
   "metadata": {},
   "source": [
    "40. 使用 einsum 计算外积"
   ]
  },
  {
   "cell_type": "code",
   "execution_count": 23,
   "id": "4791537f",
   "metadata": {},
   "outputs": [
    {
     "data": {
      "text/plain": [
       "array([[ 3,  4,  5],\n",
       "       [ 6,  8, 10]])"
      ]
     },
     "execution_count": 23,
     "metadata": {},
     "output_type": "execute_result"
    }
   ],
   "source": [
    "u = np.array([1, 2])\n",
    "v = np.array([3, 4, 5])\n",
    "np.einsum('i,j->ij', u, v)"
   ]
  },
  {
   "cell_type": "markdown",
   "id": "4e55fafc",
   "metadata": {},
   "source": [
    "41. 使用 einsum 计算内积"
   ]
  },
  {
   "cell_type": "code",
   "execution_count": 24,
   "id": "f63c9741",
   "metadata": {},
   "outputs": [
    {
     "data": {
      "text/plain": [
       "np.int64(5)"
      ]
     },
     "execution_count": 24,
     "metadata": {},
     "output_type": "execute_result"
    }
   ],
   "source": [
    "np.einsum('i,i->', u, u)"
   ]
  },
  {
   "cell_type": "markdown",
   "id": "abe057c9",
   "metadata": {},
   "source": [
    "42. 计算 3×3×3 张量沿 axis=1 的 sum"
   ]
  },
  {
   "cell_type": "code",
   "execution_count": 25,
   "id": "321494f6",
   "metadata": {},
   "outputs": [
    {
     "data": {
      "text/plain": [
       "array([[3., 3., 3.],\n",
       "       [3., 3., 3.],\n",
       "       [3., 3., 3.]])"
      ]
     },
     "execution_count": 25,
     "metadata": {},
     "output_type": "execute_result"
    }
   ],
   "source": [
    "t = np.ones((3, 3, 3))\n",
    "np.einsum('ijk->ik', t)"
   ]
  },
  {
   "cell_type": "markdown",
   "id": "78ad4958",
   "metadata": {},
   "source": [
    "43. 使用 einsum 做批量矩阵乘 (batch×n×n)"
   ]
  },
  {
   "cell_type": "code",
   "execution_count": 28,
   "id": "05f9f2c2",
   "metadata": {},
   "outputs": [
    {
     "name": "stdout",
     "output_type": "stream",
     "text": [
      "[[[ 0.19451858  1.87895653 -0.32939439 -0.68656169]\n",
      "  [ 1.91170913 -0.02004727 -1.1980882   0.57849521]\n",
      "  [ 1.2655844   0.44679616  1.20452613  0.03659526]\n",
      "  [-0.87553401 -0.427904    1.13263545 -0.85191512]]\n",
      "\n",
      " [[-0.03430467 -0.29691512 -2.0485871   0.00931297]\n",
      "  [-1.04357624  0.71499629 -0.61038261  0.86258688]\n",
      "  [ 0.87652028 -1.17662259 -1.88212754  0.53226739]\n",
      "  [-0.10524392  1.45701361 -1.5869933  -0.11914485]]\n",
      "\n",
      " [[-0.91456402  0.9267777   1.05225666  1.09205032]\n",
      "  [-0.60031473  0.93790514  0.0641807  -0.36063464]\n",
      "  [ 0.68893933 -0.55796622 -1.40796107 -1.89022835]\n",
      "  [ 1.26227696  0.52957307  1.0118599  -0.14097094]]\n",
      "\n",
      " [[ 1.11027815  0.66984412 -0.55698845 -0.58036758]\n",
      "  [ 1.60454759  0.37087039  0.63201026 -0.26642716]\n",
      "  [-0.57762109 -2.11106415 -0.59080245 -0.13829763]\n",
      "  [ 1.594618   -1.10901243 -0.73434163  0.49889077]]\n",
      "\n",
      " [[-1.24277165 -1.66142421  0.55391684  0.21490827]\n",
      "  [-0.26320547 -0.21538815  0.48316953  0.9484791 ]\n",
      "  [ 1.1607425   1.40724109 -0.98238631  1.7626049 ]\n",
      "  [ 0.24437244  0.16662123  0.99732165  0.1134135 ]]\n",
      "\n",
      " [[ 1.08193954 -0.28280887 -0.87923256 -2.11242763]\n",
      "  [ 0.45441119  0.66998238 -0.17627143 -0.75069813]\n",
      "  [ 1.67555456  1.12139785  2.61242894 -0.73445608]\n",
      "  [ 1.23384976  0.9608367   1.93057226 -0.03195319]]\n",
      "\n",
      " [[-0.67686823  2.16193702 -0.72156796 -0.19673876]\n",
      "  [ 0.05908371 -1.54741091 -0.21421155 -0.0691689 ]\n",
      "  [ 1.02706449 -1.76960432 -1.91091347 -0.92442463]\n",
      "  [ 3.25391065  0.04700314  1.48738803  2.71383357]]\n",
      "\n",
      " [[-0.05619467  0.28297881  0.67992634 -0.74778883]\n",
      "  [ 0.88078524 -1.25489969 -0.83524745  0.56441931]\n",
      "  [-0.43961347 -0.49278603 -0.20255889 -0.42729865]\n",
      "  [-0.04651991 -0.11813716 -0.50129635  1.05996212]]\n",
      "\n",
      " [[ 0.24643834 -0.97386666 -1.30714815  0.28084336]\n",
      "  [ 0.59889127 -0.14619526  1.33460066 -1.19842572]\n",
      "  [ 1.34709691 -0.99768243  0.75079368 -1.28683632]\n",
      "  [-2.00422116 -0.96764156  0.91824524 -1.27947562]]\n",
      "\n",
      " [[-0.50799399  0.07619251 -0.35847101  1.57834939]\n",
      "  [ 0.09656431  2.44123026 -0.85372503  0.25153   ]\n",
      "  [-1.6612073  -0.56964495 -0.63027656  0.52760519]\n",
      "  [ 0.24614453  0.24791706  0.38009414  0.76755392]]]\n",
      "====================\n",
      "[[[ 3.81408753  0.47443435 -3.48961724  1.52625637]\n",
      "  [-1.68923558  2.80957861 -1.3935922  -1.86077668]\n",
      "  [ 2.59271306  2.89153942  0.54015467 -0.59752844]\n",
      "  [ 1.19099082 -0.76591697  1.20044244  1.12077616]]\n",
      "\n",
      " [[-1.48557789  2.22187535  4.09243051 -1.34794028]\n",
      "  [-1.33614835  2.79606404  1.48133383  0.17936808]\n",
      "  [-0.50791423  1.88854171  1.62026111 -2.07198825]\n",
      "  [-2.89538695  2.76670432  2.50227145  0.42531141]]\n",
      "\n",
      " [[ 2.38348     0.0128288  -1.27940933 -3.47593082]\n",
      "  [-0.42501621  0.09651469 -1.02676542 -1.06429214]\n",
      "  [-3.65111524 -0.1002451   0.75883845  3.88141358]\n",
      "  [-0.9531779   1.02730139 -0.20507449 -0.7052859 ]]\n",
      "\n",
      " [[ 1.70377801  2.81161185  0.56019447 -1.03534396]\n",
      "  [ 1.58666131  0.17359845 -0.83706524 -1.25036092]\n",
      "  [-3.9078949   0.23074839 -0.56188068  0.91038855]\n",
      "  [ 1.2107177   1.65381184 -1.52159647 -0.27954386]]\n",
      "\n",
      " [[ 2.6772498   3.23792482 -1.82096935 -0.84219802]\n",
      "  [ 1.17641319  1.32166077  0.22141668  0.69835112]\n",
      "  [-2.52249692 -3.32035572  4.04585771  0.0525362 ]\n",
      "  [ 0.837794    0.98047458 -0.65077709  1.98130106]]\n",
      "\n",
      " [[-3.03753879 -3.51112656 -7.2765521  -1.3599584 ]\n",
      "  [-0.42550818 -0.59860383 -2.42740542 -1.30941445]\n",
      "  [ 5.79348321  2.50133496  3.7359919  -6.27656511]\n",
      "  [ 4.9669195   2.42903779  3.72758594 -4.74461616]]\n",
      "\n",
      " [[-0.79538132 -3.54110896  1.11152159  0.11674634]\n",
      "  [-0.57649718  2.89803431  0.59529911  0.1057182 ]\n",
      "  [-5.77036865  8.29686364  1.91458502 -0.82190092]\n",
      "  [ 8.15852377  4.45748712 -1.16373253  5.34649299]]\n",
      "\n",
      " [[-0.01171631 -0.61772847 -0.03742688 -0.881419  ]\n",
      "  [-0.81386326  2.16893616  1.5332663  -0.41176778]\n",
      "  [-0.30040922  0.64429379  0.36792686 -0.31576716]\n",
      "  [ 0.06962798  0.25689706 -0.36276946  1.30583112]]\n",
      "\n",
      " [[-2.84623583  0.93473964 -2.34536999  2.55907091]\n",
      "  [ 4.2597813  -0.73372829 -1.07639089  0.15934269]\n",
      "  [ 3.32496945 -0.66989368 -3.71030303  2.25429863]\n",
      "  [ 2.72788841  2.41526542  0.84293924  1.05220084]]\n",
      "\n",
      " [[ 1.2494121   0.74279905  0.94291089  0.2397098 ]\n",
      "  [ 1.66680861  6.51564137 -1.48506693  0.50908794]\n",
      "  [ 1.9657631  -1.02736985  1.67960299 -2.69282007]\n",
      "  [-0.54358596  0.59774799 -0.24771035  1.24053932]]]\n"
     ]
    }
   ],
   "source": [
    "batch = np.random.randn(10, 4, 4)\n",
    "print(batch)\n",
    "print('=='*10)\n",
    "result = np.einsum('bij,bjk->bik', batch, batch)\n",
    "print(result)"
   ]
  },
  {
   "cell_type": "markdown",
   "id": "dab8e26f",
   "metadata": {},
   "source": [
    "44. 设置打印精度 2 位小数"
   ]
  },
  {
   "cell_type": "code",
   "execution_count": null,
   "id": "114dcf34",
   "metadata": {},
   "outputs": [
    {
     "name": "stdout",
     "output_type": "stream",
     "text": [
      "[3.14 2.72 1.62]\n"
     ]
    }
   ],
   "source": [
    "# 全局设置 NumPy 打印时的浮点精度（小数点后保留 2 位）\n",
    "np.set_printoptions(precision=2)\n",
    "\n",
    "a = np.array([3.1415926, 2.71828, 1.618])\n",
    "print(a) "
   ]
  },
  {
   "cell_type": "markdown",
   "id": "db70a542",
   "metadata": {},
   "source": [
    "45. 关闭科学计数法"
   ]
  },
  {
   "cell_type": "code",
   "execution_count": null,
   "id": "92e08dca",
   "metadata": {},
   "outputs": [],
   "source": [
    "np.set_printoptions(suppress=True)"
   ]
  },
  {
   "cell_type": "markdown",
   "id": "a08172ce",
   "metadata": {},
   "source": [
    "46. 保存数组到磁盘并读取"
   ]
  },
  {
   "cell_type": "code",
   "execution_count": null,
   "id": "f64d76ff",
   "metadata": {},
   "outputs": [],
   "source": [
    "np.save('a.npy', a)\n",
    "aa = np.load('a.npy')"
   ]
  },
  {
   "cell_type": "markdown",
   "id": "c62dfa12",
   "metadata": {},
   "source": [
    "47. 保存为文本并读取"
   ]
  },
  {
   "cell_type": "code",
   "execution_count": null,
   "id": "622053b8",
   "metadata": {},
   "outputs": [],
   "source": [
    "np.savetxt('a.txt', a, fmt='%d')\n",
    "bb = np.loadtxt('a.txt', dtype=int)"
   ]
  },
  {
   "cell_type": "markdown",
   "id": "c35e25fd",
   "metadata": {},
   "source": [
    "48. 统计描述（min, max, mean, std） "
   ]
  },
  {
   "cell_type": "code",
   "execution_count": null,
   "id": "81f36603",
   "metadata": {},
   "outputs": [],
   "source": [
    "a = np.arange(12).reshape(4, 3)\n",
    "np.array([a.min(), a.max(), a.mean(), a.std()])"
   ]
  },
  {
   "cell_type": "markdown",
   "id": "b12d701f",
   "metadata": {},
   "source": [
    "49. 找到每行最大值索引"
   ]
  },
  {
   "cell_type": "code",
   "execution_count": null,
   "id": "bab8c4c5",
   "metadata": {},
   "outputs": [],
   "source": [
    "a = np.arange(12).reshape(4, 3)\n",
    "a.argmax(axis=1)"
   ]
  },
  {
   "cell_type": "markdown",
   "id": "81cdfe19",
   "metadata": {},
   "source": [
    "50. 将 1-D 数组变为列向量"
   ]
  },
  {
   "cell_type": "code",
   "execution_count": 36,
   "id": "a3b7602d",
   "metadata": {},
   "outputs": [
    {
     "data": {
      "text/plain": [
       "array([[0],\n",
       "       [1],\n",
       "       [2],\n",
       "       [3],\n",
       "       [4]])"
      ]
     },
     "execution_count": 36,
     "metadata": {},
     "output_type": "execute_result"
    }
   ],
   "source": [
    "a = np.arange(5).reshape(-1)\n",
    "col = a[:, None]\n",
    "col"
   ]
  }
 ],
 "metadata": {
  "kernelspec": {
   "display_name": ".venv",
   "language": "python",
   "name": "python3"
  },
  "language_info": {
   "codemirror_mode": {
    "name": "ipython",
    "version": 3
   },
   "file_extension": ".py",
   "mimetype": "text/x-python",
   "name": "python",
   "nbconvert_exporter": "python",
   "pygments_lexer": "ipython3",
   "version": "3.12.3"
  }
 },
 "nbformat": 4,
 "nbformat_minor": 5
}
