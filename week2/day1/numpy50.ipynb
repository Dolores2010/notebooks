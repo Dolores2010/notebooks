{
 "cells": [
  {
   "cell_type": "code",
   "execution_count": 2,
   "id": "4e872a56",
   "metadata": {},
   "outputs": [],
   "source": [
    "import numpy as np"
   ]
  },
  {
   "cell_type": "markdown",
   "id": "253e005d",
   "metadata": {},
   "source": [
    "1. 创建 1×5 全 0 浮点向量"
   ]
  },
  {
   "cell_type": "code",
   "execution_count": 7,
   "id": "87621d14",
   "metadata": {},
   "outputs": [
    {
     "data": {
      "text/plain": [
       "array([0., 0., 0., 0., 0.])"
      ]
     },
     "execution_count": 7,
     "metadata": {},
     "output_type": "execute_result"
    }
   ],
   "source": [
    "a = np.zeros(5, dtype=float)\n",
    "a"
   ]
  },
  {
   "cell_type": "markdown",
   "id": "ae136446",
   "metadata": {},
   "source": [
    "2. 创建 3×3 单位阵(对角线为1)"
   ]
  },
  {
   "cell_type": "code",
   "execution_count": 8,
   "id": "ae212ff1",
   "metadata": {},
   "outputs": [
    {
     "data": {
      "text/plain": [
       "array([[1., 0., 0.],\n",
       "       [0., 1., 0.],\n",
       "       [0., 0., 1.]])"
      ]
     },
     "execution_count": 8,
     "metadata": {},
     "output_type": "execute_result"
    }
   ],
   "source": [
    "a = np.eye(3)\n",
    "a"
   ]
  },
  {
   "cell_type": "markdown",
   "id": "af0b0ad3",
   "metadata": {},
   "source": [
    "3. 生成 0–9 的数组  "
   ]
  },
  {
   "cell_type": "code",
   "execution_count": 10,
   "id": "02c3ab7a",
   "metadata": {},
   "outputs": [
    {
     "data": {
      "text/plain": [
       "range(0, 10)"
      ]
     },
     "execution_count": 10,
     "metadata": {},
     "output_type": "execute_result"
    }
   ],
   "source": [
    "my_list = range(0, 10)\n",
    "my_list"
   ]
  },
  {
   "cell_type": "markdown",
   "id": "2800cb66",
   "metadata": {},
   "source": [
    "4. 从 0 到 1 等间隔 5 个数  "
   ]
  },
  {
   "cell_type": "code",
   "execution_count": 12,
   "id": "294cc12f",
   "metadata": {},
   "outputs": [
    {
     "data": {
      "text/plain": [
       "array([0.  , 0.25, 0.5 , 0.75, 1.  ])"
      ]
     },
     "execution_count": 12,
     "metadata": {},
     "output_type": "execute_result"
    }
   ],
   "source": [
    "my_list = np.linspace(0,1,5)\n",
    "my_list"
   ]
  },
  {
   "cell_type": "markdown",
   "id": "1ba924aa",
   "metadata": {},
   "source": [
    "5. 随机 2×3 正态分布  "
   ]
  },
  {
   "cell_type": "code",
   "execution_count": 14,
   "id": "6eb7b152",
   "metadata": {},
   "outputs": [
    {
     "data": {
      "text/plain": [
       "array([[-0.62122007,  0.5105913 , -0.1832004 ],\n",
       "       [-0.38875061, -0.86727411, -1.1598184 ]])"
      ]
     },
     "execution_count": 14,
     "metadata": {},
     "output_type": "execute_result"
    }
   ],
   "source": [
    "a = np.random.randn(2, 3)\n",
    "a"
   ]
  },
  {
   "cell_type": "markdown",
   "id": "a4cc94e2",
   "metadata": {},
   "source": [
    "6. 将 1~6 变成 2×3 数组  "
   ]
  },
  {
   "cell_type": "code",
   "execution_count": 15,
   "id": "4e5559ab",
   "metadata": {},
   "outputs": [
    {
     "data": {
      "text/plain": [
       "array([[1, 2, 3],\n",
       "       [4, 5, 6]])"
      ]
     },
     "execution_count": 15,
     "metadata": {},
     "output_type": "execute_result"
    }
   ],
   "source": [
    "a = np.arange(1, 7).reshape(2, 3)\n",
    "a"
   ]
  },
  {
   "cell_type": "markdown",
   "id": "38f432ec",
   "metadata": {},
   "source": [
    "7. 获取第 2 行整行  "
   ]
  },
  {
   "cell_type": "code",
   "execution_count": 19,
   "id": "3427ea48",
   "metadata": {},
   "outputs": [
    {
     "data": {
      "text/plain": [
       "array([4, 5, 6])"
      ]
     },
     "execution_count": 19,
     "metadata": {},
     "output_type": "execute_result"
    }
   ],
   "source": [
    "a = np.array([[1, 2, 3], [4, 5, 6]])\n",
    "a = a[1, :]\n",
    "a"
   ]
  },
  {
   "cell_type": "markdown",
   "id": "f2b82b8c",
   "metadata": {},
   "source": [
    "8. 获取第 1 列整列  "
   ]
  },
  {
   "cell_type": "code",
   "execution_count": 20,
   "id": "da077aaa",
   "metadata": {},
   "outputs": [
    {
     "data": {
      "text/plain": [
       "array([1, 4])"
      ]
     },
     "execution_count": 20,
     "metadata": {},
     "output_type": "execute_result"
    }
   ],
   "source": [
    "a = np.array([[1, 2, 3], [4, 5, 6]])\n",
    "a = a[:, 0]\n",
    "a"
   ]
  },
  {
   "cell_type": "markdown",
   "id": "96e0aa1f",
   "metadata": {},
   "source": [
    "9. 取前两行、后两列  "
   ]
  },
  {
   "cell_type": "code",
   "execution_count": 21,
   "id": "5e2bb058",
   "metadata": {},
   "outputs": [
    {
     "data": {
      "text/plain": [
       "array([[2, 3],\n",
       "       [5, 6]])"
      ]
     },
     "execution_count": 21,
     "metadata": {},
     "output_type": "execute_result"
    }
   ],
   "source": [
    "a = np.array([[1, 2, 3], [4, 5, 6], [7, 8, 9]])\n",
    "a = a[:2, -2:]\n",
    "a"
   ]
  },
  {
   "cell_type": "markdown",
   "id": "456ddeda",
   "metadata": {},
   "source": [
    "10. 倒序整个数组"
   ]
  },
  {
   "cell_type": "code",
   "execution_count": 3,
   "id": "34eb9d04",
   "metadata": {},
   "outputs": [
    {
     "data": {
      "text/plain": [
       "array([[9, 8, 7],\n",
       "       [6, 5, 4],\n",
       "       [3, 2, 1]])"
      ]
     },
     "execution_count": 3,
     "metadata": {},
     "output_type": "execute_result"
    }
   ],
   "source": [
    "a = np.array([[1, 2, 3], [4, 5, 6], [7, 8, 9]])\n",
    "a = a[::-1, ::-1]\n",
    "a"
   ]
  },
  {
   "cell_type": "markdown",
   "id": "4859170a",
   "metadata": {},
   "source": [
    "11. 行倒序，列不变"
   ]
  },
  {
   "cell_type": "code",
   "execution_count": 4,
   "id": "978a7530",
   "metadata": {},
   "outputs": [
    {
     "data": {
      "text/plain": [
       "array([[7, 8, 9],\n",
       "       [4, 5, 6],\n",
       "       [1, 2, 3]])"
      ]
     },
     "execution_count": 4,
     "metadata": {},
     "output_type": "execute_result"
    }
   ],
   "source": [
    "a = np.array([[1, 2, 3], [4, 5, 6], [7, 8, 9]])\n",
    "a = a[::-1, :]\n",
    "a"
   ]
  },
  {
   "cell_type": "markdown",
   "id": "55483f20",
   "metadata": {},
   "source": [
    "12. 把 3×4 数组展平成一维"
   ]
  },
  {
   "cell_type": "code",
   "execution_count": null,
   "id": "6171f42a",
   "metadata": {},
   "outputs": [
    {
     "data": {
      "text/plain": [
       "array([[ 1,  2,  3,  4,  5,  6,  7,  8,  9, 17, 18, 19]])"
      ]
     },
     "execution_count": 8,
     "metadata": {},
     "output_type": "execute_result"
    }
   ],
   "source": [
    "a = np.array([[1, 2, 3], [4, 5, 6], [7, 8, 9], [17, 18, 19]])\n",
    "a = a.reshape(1,12)\n",
    "a\n",
    "\n",
    "# 此时a变成了只有一行数据的二维向量，不满足题意"
   ]
  },
  {
   "cell_type": "code",
   "execution_count": null,
   "id": "c480d925",
   "metadata": {},
   "outputs": [],
   "source": [
    "#可以做如下修改\n",
    "b = np.array([[1, 2, 3], [4, 5, 6], [7, 8, 9], [17, 18, 19]])\n",
    "x = b.ravel()      # 推荐，返回视图\n",
    "y = b.flatten()    # 返回拷贝\n",
    "z = b.reshape(-1)  # 显式变成一维"
   ]
  }
 ],
 "metadata": {
  "kernelspec": {
   "display_name": "ai",
   "language": "python",
   "name": "python3"
  },
  "language_info": {
   "codemirror_mode": {
    "name": "ipython",
    "version": 3
   },
   "file_extension": ".py",
   "mimetype": "text/x-python",
   "name": "python",
   "nbconvert_exporter": "python",
   "pygments_lexer": "ipython3",
   "version": "3.10.18"
  }
 },
 "nbformat": 4,
 "nbformat_minor": 5
}
