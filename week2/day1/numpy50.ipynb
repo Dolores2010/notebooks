{
 "cells": [
  {
   "cell_type": "markdown",
   "id": "253e005d",
   "metadata": {},
   "source": [
    "1. 创建 1×5 全 0 浮点向量"
   ]
  },
  {
   "cell_type": "code",
   "execution_count": 7,
   "id": "87621d14",
   "metadata": {},
   "outputs": [
    {
     "data": {
      "text/plain": [
       "array([0., 0., 0., 0., 0.])"
      ]
     },
     "execution_count": 7,
     "metadata": {},
     "output_type": "execute_result"
    }
   ],
   "source": [
    "a = np.zeros(5, dtype=float)\n",
    "a"
   ]
  },
  {
   "cell_type": "markdown",
   "id": "ae136446",
   "metadata": {},
   "source": [
    "2. 创建 3×3 单位阵(对角线为1)"
   ]
  },
  {
   "cell_type": "code",
   "execution_count": 8,
   "id": "ae212ff1",
   "metadata": {},
   "outputs": [
    {
     "data": {
      "text/plain": [
       "array([[1., 0., 0.],\n",
       "       [0., 1., 0.],\n",
       "       [0., 0., 1.]])"
      ]
     },
     "execution_count": 8,
     "metadata": {},
     "output_type": "execute_result"
    }
   ],
   "source": [
    "a = np.eye(3)\n",
    "a"
   ]
  }
 ],
 "metadata": {
  "kernelspec": {
   "display_name": "ai",
   "language": "python",
   "name": "python3"
  },
  "language_info": {
   "codemirror_mode": {
    "name": "ipython",
    "version": 3
   },
   "file_extension": ".py",
   "mimetype": "text/x-python",
   "name": "python",
   "nbconvert_exporter": "python",
   "pygments_lexer": "ipython3",
   "version": "3.10.18"
  }
 },
 "nbformat": 4,
 "nbformat_minor": 5
}
